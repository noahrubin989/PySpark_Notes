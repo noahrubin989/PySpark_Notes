{
 "cells": [
  {
   "cell_type": "markdown",
   "id": "f22fa66c",
   "metadata": {},
   "source": [
    "## PySpark Notes\n",
    "\n",
    "[Sorting](https://sparkbyexamples.com/pyspark/pyspark-orderby-and-sort-explained/#:~:text=DataFrame%20sorting%20using%20the%20sort,it%20sorts%20by%20ascending%20order.&text=The%20above%20two%20examples%20return,takes%20columns%20in%20Column%20type.) and [counting](https://napsterinblue.github.io/notes/spark/sparksql/value_counts/) data\n",
    "\n",
    "\n"
   ]
  },
  {
   "cell_type": "code",
   "execution_count": 1,
   "id": "d5e5e8bd",
   "metadata": {},
   "outputs": [],
   "source": [
    "from pyspark.sql import SparkSession\n",
    "from pyspark.sql import functions as F\n",
    "import pandas as pd"
   ]
  },
  {
   "cell_type": "code",
   "execution_count": 2,
   "id": "c8c97142",
   "metadata": {},
   "outputs": [],
   "source": [
    "spark = SparkSession.builder.appName(\"Spark Intro\").getOrCreate()"
   ]
  },
  {
   "cell_type": "code",
   "execution_count": 3,
   "id": "c160a2a1",
   "metadata": {},
   "outputs": [],
   "source": [
    "df = spark.read.csv('./data/store.csv', header=True, inferSchema=True)"
   ]
  },
  {
   "cell_type": "markdown",
   "id": "6bbcadf2",
   "metadata": {},
   "source": [
    "#### Which 5 orders resulted in the largest profits"
   ]
  },
  {
   "cell_type": "code",
   "execution_count": 4,
   "id": "2e40f523",
   "metadata": {},
   "outputs": [
    {
     "name": "stdout",
     "output_type": "stream",
     "text": [
      "+----------+-------------+---------+\n",
      "|      Date|Customer Name|   Profit|\n",
      "+----------+-------------+---------+\n",
      "|2020-09-03| Tamara Chand| 8399.976|\n",
      "|2020-12-12| Raymond Buch|6719.9808|\n",
      "|2020-03-18| Hunter Lopez|5039.9856|\n",
      "|2020-08-15|Adrian Barton|  4946.37|\n",
      "|2020-12-01| Sanjit Chand|4630.4755|\n",
      "+----------+-------------+---------+\n",
      "only showing top 5 rows\n",
      "\n"
     ]
    }
   ],
   "source": [
    "largest_profits = df.sort(df.Profit.desc())\n",
    "largest_profits.select('Date', 'Customer Name', 'Profit').show(n=5)"
   ]
  },
  {
   "cell_type": "markdown",
   "id": "ad83188a",
   "metadata": {},
   "source": [
    "#### Sort Customers alphabetically (display the first 50)"
   ]
  },
  {
   "cell_type": "code",
   "execution_count": 5,
   "id": "67d80857",
   "metadata": {},
   "outputs": [
    {
     "name": "stdout",
     "output_type": "stream",
     "text": [
      "+--------------------+\n",
      "|       Customer Name|\n",
      "+--------------------+\n",
      "|       Aaron Bergman|\n",
      "|       Aaron Hawkins|\n",
      "|      Aaron Smayling|\n",
      "|     Adam Bellavance|\n",
      "|           Adam Hart|\n",
      "|  Adam Shillingsburg|\n",
      "|       Adrian Barton|\n",
      "|         Adrian Hane|\n",
      "|        Adrian Shami|\n",
      "|         Aimee Bixby|\n",
      "|         Alan Barnes|\n",
      "|      Alan Dominguez|\n",
      "|         Alan Haines|\n",
      "|          Alan Hwang|\n",
      "|   Alan Schoenberger|\n",
      "|        Alan Shonely|\n",
      "|Alejandro Ballentine|\n",
      "|     Alejandro Grove|\n",
      "|    Alejandro Savely|\n",
      "| Aleksandra Gannaway|\n",
      "|          Alex Avila|\n",
      "|        Alex Grayson|\n",
      "|        Alex Russell|\n",
      "|      Alice McCarthy|\n",
      "|        Allen Armold|\n",
      "|      Allen Goldenen|\n",
      "|    Allen Rosenblatt|\n",
      "|       Alyssa Crouse|\n",
      "|         Alyssa Tate|\n",
      "|             Amy Cox|\n",
      "|            Amy Hunt|\n",
      "|        Andrew Allen|\n",
      "|     Andrew Gjertsen|\n",
      "|      Andrew Roberts|\n",
      "|        Andy Gerbode|\n",
      "|         Andy Reiter|\n",
      "|          Andy Yotov|\n",
      "|      Anemone Ratner|\n",
      "|         Angele Hood|\n",
      "|           Ann Blume|\n",
      "|           Ann Chong|\n",
      "|          Ann Steele|\n",
      "|       Anna Andreadi|\n",
      "|          Anna Chung|\n",
      "|         Anna Gayman|\n",
      "|       Anna Häberlin|\n",
      "|      Anne McFarland|\n",
      "|          Anne Pryor|\n",
      "|       Annie Thurman|\n",
      "|        Annie Zypern|\n",
      "+--------------------+\n",
      "only showing top 50 rows\n",
      "\n"
     ]
    }
   ],
   "source": [
    "df.select('Customer Name').distinct().sort('Customer Name').show(n=50)"
   ]
  },
  {
   "cell_type": "markdown",
   "id": "bb2cbd35",
   "metadata": {},
   "source": [
    "#### Sort by customer name in descending order and if there is a tie then sort by profit in ascending order"
   ]
  },
  {
   "cell_type": "code",
   "execution_count": 6,
   "id": "7883977f",
   "metadata": {},
   "outputs": [
    {
     "data": {
      "text/plain": [
       "[('Date', 'string'),\n",
       " ('Customer ID', 'string'),\n",
       " ('Customer Name', 'string'),\n",
       " ('Segment', 'string'),\n",
       " ('Country', 'string'),\n",
       " ('City', 'string'),\n",
       " ('State', 'string'),\n",
       " ('Postal Code', 'int'),\n",
       " ('Region', 'string'),\n",
       " ('Product ID', 'string'),\n",
       " ('Category', 'string'),\n",
       " ('Sub-Category', 'string'),\n",
       " ('Product Name', 'string'),\n",
       " ('Sales', 'string'),\n",
       " ('Quantity', 'string'),\n",
       " ('Discount', 'string'),\n",
       " ('Profit', 'double'),\n",
       " ('RATING', 'double')]"
      ]
     },
     "execution_count": 6,
     "metadata": {},
     "output_type": "execute_result"
    }
   ],
   "source": [
    "df.dtypes"
   ]
  },
  {
   "cell_type": "code",
   "execution_count": 7,
   "id": "1f6ce05d",
   "metadata": {},
   "outputs": [
    {
     "name": "stdout",
     "output_type": "stream",
     "text": [
      "+------------------+----------+\n",
      "|     Customer Name|    Profit|\n",
      "+------------------+----------+\n",
      "|Zuschuss Donatelli|    2.4824|\n",
      "|Zuschuss Donatelli|     3.344|\n",
      "|Zuschuss Donatelli|     4.995|\n",
      "|Zuschuss Donatelli|     7.384|\n",
      "|Zuschuss Donatelli|    16.011|\n",
      "|Zuschuss Donatelli|   16.5888|\n",
      "|Zuschuss Donatelli|   22.0472|\n",
      "|Zuschuss Donatelli|   51.4975|\n",
      "|Zuschuss Donatelli|  124.7808|\n",
      "|  Zuschuss Carroll|-1850.9464|\n",
      "|  Zuschuss Carroll|  -97.7394|\n",
      "|  Zuschuss Carroll|   -55.256|\n",
      "|  Zuschuss Carroll|  -50.6688|\n",
      "|  Zuschuss Carroll|  -23.7822|\n",
      "|  Zuschuss Carroll|  -20.1362|\n",
      "|  Zuschuss Carroll|  -12.8961|\n",
      "|  Zuschuss Carroll|   -5.2072|\n",
      "|  Zuschuss Carroll|   -4.1136|\n",
      "|  Zuschuss Carroll|   -3.8385|\n",
      "|  Zuschuss Carroll|     -1.11|\n",
      "+------------------+----------+\n",
      "only showing top 20 rows\n",
      "\n"
     ]
    }
   ],
   "source": [
    "# Can use orderBy() instead of sort()\n",
    "sorted_df = df.orderBy(F.col('Customer Name').desc(), F.col('Profit').asc())\n",
    "sorted_df.select('Customer Name', 'Profit').show()"
   ]
  },
  {
   "cell_type": "markdown",
   "id": "80877d24",
   "metadata": {},
   "source": [
    "#### Count the occurences of each region. The count should be in descending order"
   ]
  },
  {
   "cell_type": "code",
   "execution_count": 8,
   "id": "7f4f4184",
   "metadata": {},
   "outputs": [
    {
     "name": "stdout",
     "output_type": "stream",
     "text": [
      "+-------+-----+\n",
      "| Region|count|\n",
      "+-------+-----+\n",
      "|   West| 3203|\n",
      "|   East| 2848|\n",
      "|Central| 2323|\n",
      "|  South| 1620|\n",
      "+-------+-----+\n",
      "\n"
     ]
    }
   ],
   "source": [
    "# For each region keep a count\n",
    "df.groupby('Region').count().orderBy('count', ascending=False).show()"
   ]
  },
  {
   "cell_type": "markdown",
   "id": "0f5958af",
   "metadata": {},
   "source": [
    "#### Create a value counts function"
   ]
  },
  {
   "cell_type": "code",
   "execution_count": 9,
   "id": "119ca061",
   "metadata": {},
   "outputs": [],
   "source": [
    "def value_counts(df, col, ascending):\n",
    "    return df.groupby(col).count().orderBy('count', ascending=ascending)"
   ]
  },
  {
   "cell_type": "code",
   "execution_count": 10,
   "id": "8fdcae7c",
   "metadata": {},
   "outputs": [
    {
     "name": "stdout",
     "output_type": "stream",
     "text": [
      "+-------+-----+\n",
      "| Region|count|\n",
      "+-------+-----+\n",
      "|   West| 3203|\n",
      "|   East| 2848|\n",
      "|Central| 2323|\n",
      "|  South| 1620|\n",
      "+-------+-----+\n",
      "\n"
     ]
    }
   ],
   "source": [
    "value_counts(df, 'Region', False).show()"
   ]
  },
  {
   "cell_type": "code",
   "execution_count": null,
   "id": "752a4246",
   "metadata": {},
   "outputs": [],
   "source": []
  }
 ],
 "metadata": {
  "kernelspec": {
   "display_name": "Python 3",
   "language": "python",
   "name": "python3"
  },
  "language_info": {
   "codemirror_mode": {
    "name": "ipython",
    "version": 3
   },
   "file_extension": ".py",
   "mimetype": "text/x-python",
   "name": "python",
   "nbconvert_exporter": "python",
   "pygments_lexer": "ipython3",
   "version": "3.8.8"
  }
 },
 "nbformat": 4,
 "nbformat_minor": 5
}
