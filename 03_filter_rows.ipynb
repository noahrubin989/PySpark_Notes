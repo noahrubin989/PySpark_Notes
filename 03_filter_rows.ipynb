{
 "cells": [
  {
   "cell_type": "markdown",
   "id": "be1a0a49",
   "metadata": {},
   "source": [
    "## PySpark Notes\n",
    "\n",
    "Filtering Rows\n",
    "\n",
    "[Really solid examples here](https://sparkbyexamples.com/pyspark/pyspark-where-filter/)"
   ]
  },
  {
   "cell_type": "code",
   "execution_count": 1,
   "id": "2eeae35e",
   "metadata": {},
   "outputs": [],
   "source": [
    "from pyspark.sql import SparkSession\n",
    "from pyspark.sql import functions as F\n",
    "import pandas as pd"
   ]
  },
  {
   "cell_type": "code",
   "execution_count": 2,
   "id": "f00b4c45",
   "metadata": {},
   "outputs": [],
   "source": [
    "spark = SparkSession.builder.appName(\"Spark Intro\").getOrCreate()"
   ]
  },
  {
   "cell_type": "markdown",
   "id": "7dc91528",
   "metadata": {},
   "source": [
    "#### Read in data"
   ]
  },
  {
   "cell_type": "code",
   "execution_count": 3,
   "id": "d804231f",
   "metadata": {},
   "outputs": [
    {
     "data": {
      "text/plain": [
       "['Date',\n",
       " 'Customer ID',\n",
       " 'Customer Name',\n",
       " 'Segment',\n",
       " 'Country',\n",
       " 'City',\n",
       " 'State',\n",
       " 'Postal Code',\n",
       " 'Region',\n",
       " 'Product ID',\n",
       " 'Category',\n",
       " 'Sub-Category',\n",
       " 'Product Name',\n",
       " 'Sales',\n",
       " 'Quantity',\n",
       " 'Discount',\n",
       " 'Profit',\n",
       " 'RATING']"
      ]
     },
     "execution_count": 3,
     "metadata": {},
     "output_type": "execute_result"
    }
   ],
   "source": [
    "df = spark.read.csv('./data/store.csv', header=True, inferSchema=True)\n",
    "df.columns"
   ]
  },
  {
   "cell_type": "markdown",
   "id": "1760224c",
   "metadata": {},
   "source": [
    "#### Drop a few columns (for simplicity)"
   ]
  },
  {
   "cell_type": "code",
   "execution_count": 4,
   "id": "372d1a29",
   "metadata": {},
   "outputs": [
    {
     "name": "stdout",
     "output_type": "stream",
     "text": [
      "+----------+---------------+---------+-------------+---------------+---------------+------------+--------------------+--------+--------+--------+------+\n",
      "|      Date|  Customer Name|  Segment|      Country|           City|       Category|Sub-Category|        Product Name|   Sales|Quantity|  Profit|RATING|\n",
      "+----------+---------------+---------+-------------+---------------+---------------+------------+--------------------+--------+--------+--------+------+\n",
      "|2020-09-09|    Claire Gute| Consumer|United States|      Henderson|      Furniture|   Bookcases|Bush Somerset Col...|  261.96|       2| 41.9136|   8.0|\n",
      "|2020-10-27|    Claire Gute| Consumer|United States|      Henderson|      Furniture|      Chairs|Hon Deluxe Fabric...|  731.94|       3| 219.582|   8.0|\n",
      "|2020-09-10|Darrin Van Huff|Corporate|United States|    Los Angeles|Office Supplies|      Labels|Self-Adhesive Add...|   14.62|       2|  6.8714|   8.0|\n",
      "|2020-04-25| Sean O'Donnell| Consumer|United States|Fort Lauderdale|      Furniture|      Tables|Bretford CR4500 S...|957.5775|       5|-383.031|   9.0|\n",
      "|2020-07-29| Sean O'Donnell| Consumer|United States|Fort Lauderdale|Office Supplies|     Storage|Eldon Fold 'N Rol...|  22.368|       2|  2.5164|   7.0|\n",
      "|2020-01-02|Brosina Hoffman| Consumer|United States|    Los Angeles|      Furniture| Furnishings|Eldon Expressions...|   48.86|       7| 14.1694|   8.0|\n",
      "|2020-11-10|Brosina Hoffman| Consumer|United States|    Los Angeles|Office Supplies|         Art|          Newell 322|    7.28|       4|  1.9656|   9.0|\n",
      "|2020-04-07|Brosina Hoffman| Consumer|United States|    Los Angeles|     Technology|      Phones|Mitel 5320 IP Pho...| 907.152|       6| 90.7152|   8.0|\n",
      "|2020-08-03|Brosina Hoffman| Consumer|United States|    Los Angeles|Office Supplies|     Binders|DXL Angle-View Bi...|  18.504|       3|  5.7825|   7.0|\n",
      "|2020-05-21|Brosina Hoffman| Consumer|United States|    Los Angeles|Office Supplies|  Appliances|Belkin F5C206VTEL...|   114.9|       5|   34.47|   9.0|\n",
      "+----------+---------------+---------+-------------+---------------+---------------+------------+--------------------+--------+--------+--------+------+\n",
      "only showing top 10 rows\n",
      "\n"
     ]
    }
   ],
   "source": [
    "df = df.drop('Customer ID', 'State', 'Region', 'Postal Code', 'Product ID', 'Discount')\n",
    "df.show(n=10)"
   ]
  },
  {
   "cell_type": "code",
   "execution_count": 5,
   "id": "45c268d5",
   "metadata": {},
   "outputs": [
    {
     "name": "stdout",
     "output_type": "stream",
     "text": [
      "There are 9994 rows and 12 columns in this dataframe\n"
     ]
    }
   ],
   "source": [
    "print(f'There are {df.count()} rows and {len(df.columns)} columns in this dataframe')"
   ]
  },
  {
   "cell_type": "markdown",
   "id": "99da8d36",
   "metadata": {},
   "source": [
    "#### Find all rows where revenue was greater than $5000 for orders from Los Angeles. How many rows matched this criteria?"
   ]
  },
  {
   "cell_type": "code",
   "execution_count": 6,
   "id": "f3c408f0",
   "metadata": {},
   "outputs": [
    {
     "data": {
      "text/plain": [
       "[('Date', 'string'),\n",
       " ('Customer Name', 'string'),\n",
       " ('Segment', 'string'),\n",
       " ('Country', 'string'),\n",
       " ('City', 'string'),\n",
       " ('Category', 'string'),\n",
       " ('Sub-Category', 'string'),\n",
       " ('Product Name', 'string'),\n",
       " ('Sales', 'string'),\n",
       " ('Quantity', 'string'),\n",
       " ('Profit', 'double'),\n",
       " ('RATING', 'double')]"
      ]
     },
     "execution_count": 6,
     "metadata": {},
     "output_type": "execute_result"
    }
   ],
   "source": [
    "df.dtypes"
   ]
  },
  {
   "cell_type": "code",
   "execution_count": 7,
   "id": "412ed887",
   "metadata": {},
   "outputs": [
    {
     "name": "stdout",
     "output_type": "stream",
     "text": [
      "There are 38 rows that match this criteria\n",
      "\n",
      "+----------+-------------------+---------+-------------+-----------+---------------+------------+--------------------+--------+--------+---------+------+------------------+\n",
      "|      Date|      Customer Name|  Segment|      Country|       City|       Category|Sub-Category|        Product Name|   Sales|Quantity|   Profit|RATING|           Revenue|\n",
      "+----------+-------------------+---------+-------------+-----------+---------------+------------+--------------------+--------+--------+---------+------+------------------+\n",
      "|2020-04-07|    Brosina Hoffman| Consumer|United States|Los Angeles|     Technology|      Phones|Mitel 5320 IP Pho...| 907.152|       6|  90.7152|   8.0|          5442.912|\n",
      "|2020-07-15|    Brosina Hoffman| Consumer|United States|Los Angeles|      Furniture|      Tables|Chromcraft Rectan...|1706.184|       9|  85.3092|  10.0|15355.655999999999|\n",
      "|2020-11-02|      Jas O'Carroll| Consumer|United States|Los Angeles|      Furniture|      Tables|\"Bevis Round Bull...| 1038.84|       5|   51.942|   6.0|            5194.2|\n",
      "|2020-06-30|        Olvera Toch| Consumer|United States|Los Angeles|      Furniture|      Tables|Bretford “Just In...| 1335.68|       4| -217.048|   6.0|           5342.72|\n",
      "|2020-02-04|    Bradley Talbott| Consumer|United States|Los Angeles|     Technology|      Phones|Toshiba IPT2010-S...| 889.536|       8|  66.7152|   8.0|          7116.288|\n",
      "|2020-11-05|   Corinna Mitchell| Consumer|United States|Los Angeles|     Technology|      Phones|Cisco IP Phone 79...|1212.848|       7| 106.1242|   6.0|          8489.936|\n",
      "|2020-07-19|      Pauline Chand| Consumer|United States|Los Angeles|      Furniture|      Tables|Hon 2111 Invitati...|1004.976|       6|-175.8708|   8.0|          6029.856|\n",
      "|2020-01-05|        Grace Kelly|Corporate|United States|Los Angeles|     Technology|      Phones|Samsung Galaxy No...|2575.944|       7| 257.5944|   7.0|         18031.608|\n",
      "|2020-10-04|    Mike Gockenbach| Consumer|United States|Los Angeles|     Technology| Accessories|Logitech G19 Prog...| 1115.91|       9| 200.8638|   5.0|          10043.19|\n",
      "|2020-11-19|   Charles Crestani| Consumer|United States|Los Angeles|     Technology|    Machines|Bady BDG101FRU Ca...|1919.976|       3| 215.9973|  10.0|          5759.928|\n",
      "|2020-04-26|    Penelope Sewall| Consumer|United States|Los Angeles|     Technology|     Copiers|Canon Imageclass ...|3359.952|       6| 1049.985|   7.0|         20159.712|\n",
      "|2020-09-15|        Darren Budd|Corporate|United States|Los Angeles|Office Supplies|     Storage|Fellowes Stor/Dra...|  763.44|       8|  45.8064|   8.0|           6107.52|\n",
      "|2020-12-08|   Jonathan Doherty|Corporate|United States|Los Angeles|Office Supplies|     Storage|Dual Level, Singl...| 1085.42|       7| 282.2092|   6.0|7597.9400000000005|\n",
      "|2020-05-04|           Sung Pak|Corporate|United States|Los Angeles|      Furniture|      Chairs|Global Leather Ex...|1684.752|       6|  210.594|   8.0|10108.511999999999|\n",
      "|2020-11-25| Christopher Conant| Consumer|United States|Los Angeles|     Technology|     Copiers|Canon PC1060 Pers...| 2799.96|       5| 944.9865|   5.0|           13999.8|\n",
      "|2020-03-20|  Steven Cartwright| Consumer|United States|Los Angeles|      Furniture| Furnishings|\"Howard Miller 11...|  474.43|      11| 199.2606|   5.0|5218.7300000000005|\n",
      "|2020-03-17|      Paul Van Hugh| Consumer|United States|Los Angeles|Office Supplies|     Storage|Tennsco Double-Ti...| 1575.14|       7| 204.7682|   5.0|11025.980000000001|\n",
      "|2020-10-30|        Alyssa Tate| Consumer|United States|Los Angeles|      Furniture|      Tables|Bevis 36 x 72 Con...| 896.328|       9|  22.4082|   5.0| 8066.951999999999|\n",
      "|2020-06-17|     Craig Carreira| Consumer|United States|Los Angeles|      Furniture|   Bookcases|Bush Andora Bookc...|917.9235|       9|  75.5937|   9.0|         8261.3115|\n",
      "|2020-05-10|      Robert Marley| Consumer|United States|Los Angeles|     Technology|     Copiers|Hewlett Packard L...|2879.952|       6|1007.9832|  10.0|         17279.712|\n",
      "|2020-01-31|       Neoma Murray| Consumer|United States|Los Angeles|     Technology| Accessories|Logitech Z-906 Sp...| 1649.95|       5|   659.98|   9.0|           8249.75|\n",
      "|2020-12-11|      Robert Marley| Consumer|United States|Los Angeles|Office Supplies|  Appliances|Sanyo Counter Hei...|  1640.7|       5|  459.396|  10.0|            8203.5|\n",
      "|2020-01-04|     Robert Waldorf| Consumer|United States|Los Angeles|     Technology| Accessories|SanDisk Cruzer 64...|  435.84|      12|  130.752|   8.0|           5230.08|\n",
      "|2020-06-07|       Matt Abelman| Consumer|United States|Los Angeles|     Technology|      Phones|Mophie Juice Pack...| 575.928|       9|  57.5928|   9.0|          5183.352|\n",
      "|2020-10-02|        Erica Smith| Consumer|United States|Los Angeles|Office Supplies|     Binders|GBC DocuBind 200 ...|2357.488|       7|  884.058|   8.0|16502.415999999997|\n",
      "|2020-11-20|        Clay Ludtke| Consumer|United States|Los Angeles|     Technology|    Machines|Zebra GX420t Dire...| 2548.56|       6|  286.713|   5.0|          15291.36|\n",
      "|2020-12-27|     Karen Ferguson| Consumer|United States|Los Angeles|     Technology|      Phones|      Apple iPhone 5|4158.912|       8| 363.9048|   8.0|         33271.296|\n",
      "|2020-05-18|          Ed Jacobs| Consumer|United States|Los Angeles|     Technology| Accessories|Imation Bio 2GB U...| 1049.44|       8| 440.7648|   7.0|           8395.52|\n",
      "|2020-05-12|         Scot Coram|Corporate|United States|Los Angeles|      Furniture|      Tables|Bretford CR8500 S...|2887.056|       9|  180.441|   9.0|         25983.504|\n",
      "|2020-11-12|     Roland Schwarz|Corporate|United States|Los Angeles|Office Supplies|     Storage|Standard Rollaway...| 1261.33|       7| 327.9458|   7.0|           8829.31|\n",
      "|2020-04-19|  Cassandra Brandow| Consumer|United States|Los Angeles|Office Supplies|     Storage|Carina Double Wid...|  728.82|       9|  29.1528|   5.0|           6559.38|\n",
      "|2020-03-03|     Rick Huthwaite| Consumer|United States|Los Angeles|     Technology|    Machines|Okidata MB760 Pri...|  3357.6|       3|   377.73|   7.0|           10072.8|\n",
      "|2020-09-11|        Sarah Brown| Consumer|United States|Los Angeles|     Technology|    Machines|Zebra GX420t Dire...| 2973.32|       7| 334.4985|   5.0|          20813.24|\n",
      "|2020-02-09|    George Zrebassa|Corporate|United States|Los Angeles|     Technology| Accessories|Logitech Z-906 Sp...| 1649.95|       5|   659.98|   8.0|           8249.75|\n",
      "|2020-12-11|         Karen Bern|Corporate|United States|Los Angeles|     Technology| Accessories|Logitech P710e Mo...| 1287.45|       5| 244.6155|  10.0|           6437.25|\n",
      "|2020-10-05|   Sean Christensen| Consumer|United States|Los Angeles|      Furniture|      Chairs|HON 5400 Series T...| 2803.92|       5|      0.0|   9.0|           14019.6|\n",
      "|2020-02-04|Maribeth Schnelling| Consumer|United States|Los Angeles|      Furniture|   Bookcases|DMI Eclipse Execu...|3406.664|       8| 160.3136|   9.0|         27253.312|\n",
      "|2020-05-18|         Anne Pryor| Consumer|United States|Los Angeles|Office Supplies|     Binders|Ibico Recycled Li...| 437.472|      14| 153.1152|   8.0|          6124.608|\n",
      "+----------+-------------------+---------+-------------+-----------+---------------+------------+--------------------+--------+--------+---------+------+------------------+\n",
      "\n"
     ]
    }
   ],
   "source": [
    "# First create a revenue column\n",
    "df = df.withColumn(colName='Revenue', col=df.Sales*df.Quantity)\n",
    "\n",
    "required_rows = df[(df.Revenue > 5000) & (df.City == 'Los Angeles')]\n",
    "\n",
    "matches = required_rows.count()\n",
    "print(f'There are {matches} rows that match this criteria\\n')\n",
    "required_rows.show(n=matches)"
   ]
  },
  {
   "cell_type": "markdown",
   "id": "e3fc145d",
   "metadata": {},
   "source": [
    "#### Filter observations between 2020-04-19 and 2020-11-20 and verify that it was done properly"
   ]
  },
  {
   "cell_type": "code",
   "execution_count": 8,
   "id": "9f3672a8",
   "metadata": {},
   "outputs": [],
   "source": [
    "# Essentially this is df['Date'] = pd.to_datetime(df.Date)\n",
    "df = df.withColumn(colName='Date', col=F.to_date(df.Date))"
   ]
  },
  {
   "cell_type": "code",
   "execution_count": 9,
   "id": "1c5f848e",
   "metadata": {},
   "outputs": [
    {
     "name": "stdout",
     "output_type": "stream",
     "text": [
      "+----------+----------+\n",
      "| min(date)| max(date)|\n",
      "+----------+----------+\n",
      "|2020-04-19|2020-11-20|\n",
      "+----------+----------+\n",
      "\n"
     ]
    }
   ],
   "source": [
    "start_date = pd.to_datetime('2020-04-19')\n",
    "end_date = pd.to_datetime('2020-11-20')\n",
    "\n",
    "df_between_dates = df[df.Date.between(lowerBound=start_date, upperBound=end_date)]\n",
    "df_between_dates.agg(F.min('date'), F.max('date')).show()"
   ]
  },
  {
   "cell_type": "markdown",
   "id": "eabe8926",
   "metadata": {},
   "source": [
    "#### Filter people whose name begins with a 'Z' and are from Salem"
   ]
  },
  {
   "cell_type": "code",
   "execution_count": 10,
   "id": "4455ff41",
   "metadata": {},
   "outputs": [
    {
     "name": "stdout",
     "output_type": "stream",
     "text": [
      "+----------+----------------+--------+-------------+-----+---------------+------------+--------------------+------+--------+--------+------+-----------------+\n",
      "|      Date|   Customer Name| Segment|      Country| City|       Category|Sub-Category|        Product Name| Sales|Quantity|  Profit|RATING|          Revenue|\n",
      "+----------+----------------+--------+-------------+-----+---------------+------------+--------------------+------+--------+--------+------+-----------------+\n",
      "|2020-10-07|Zuschuss Carroll|Consumer|United States|Salem|     Technology|      Phones|i.Sound Portable ...|84.784|       2|-20.1362|  10.0|          169.568|\n",
      "|2020-11-16|Zuschuss Carroll|Consumer|United States|Salem|Office Supplies|       Paper|           Xerox 225|20.736|       4|  7.2576|   8.0|           82.944|\n",
      "|2020-04-19|Zuschuss Carroll|Consumer|United States|Salem|Office Supplies|     Binders|Clear Mylar Reinf...|16.821|       3|-12.8961|   5.0|50.46300000000001|\n",
      "|2020-12-11|Zuschuss Carroll|Consumer|United States|Salem|Office Supplies|       Paper|          Xerox 1894|10.368|       2|  3.6288|   7.0|           20.736|\n",
      "+----------+----------------+--------+-------------+-----+---------------+------------+--------------------+------+--------+--------+------+-----------------+\n",
      "\n"
     ]
    }
   ],
   "source": [
    "df[(df['Customer Name'].startswith('Z')) & (df.City == 'Salem')].show()"
   ]
  },
  {
   "cell_type": "markdown",
   "id": "c13f579f",
   "metadata": {},
   "source": [
    "#### Find all paper related orders where cost was greater than $4000. Select only sub-category, revenue, cost and profit\n",
    "Don't use square brackets for the filtering"
   ]
  },
  {
   "cell_type": "code",
   "execution_count": 11,
   "id": "c5190e13",
   "metadata": {},
   "outputs": [
    {
     "name": "stdout",
     "output_type": "stream",
     "text": [
      "+------------+-----------------+-----------------+--------+\n",
      "|Sub-Category|          Revenue|             Cost|  Profit|\n",
      "+------------+-----------------+-----------------+--------+\n",
      "|       Paper|5137.650000000001|         4785.354| 352.296|\n",
      "|       Paper|         4136.384|        4040.3608| 96.0232|\n",
      "|       Paper|         4188.496|         4087.811| 100.685|\n",
      "|       Paper|4476.639999999999|4329.550399999999|147.0896|\n",
      "+------------+-----------------+-----------------+--------+\n",
      "\n"
     ]
    }
   ],
   "source": [
    "df = df.withColumn(colName='Cost', col=df.Revenue-df.Profit)\n",
    "\n",
    "# `filter` and `where` do the same thing\n",
    "filtered_df = df.filter( (df['Sub-Category'] == 'Paper') & (df['Cost'] > 4000) )\n",
    "\n",
    "# Selecting\n",
    "filtered_df.select('Sub-Category', 'Revenue', 'Cost', 'Profit').show()"
   ]
  },
  {
   "cell_type": "markdown",
   "id": "3fa3e537",
   "metadata": {},
   "source": [
    "#### Filter rows where the city was Madison or Fort Lauderdale or West Jordan"
   ]
  },
  {
   "cell_type": "code",
   "execution_count": 12,
   "id": "72ccaec1",
   "metadata": {},
   "outputs": [
    {
     "name": "stdout",
     "output_type": "stream",
     "text": [
      "+----------+-----------------+--------+-------------+---------------+---------------+------------+--------------------+--------+--------+--------+------+------------------+------------------+\n",
      "|      Date|    Customer Name| Segment|      Country|           City|       Category|Sub-Category|        Product Name|   Sales|Quantity|  Profit|RATING|           Revenue|              Cost|\n",
      "+----------+-----------------+--------+-------------+---------------+---------------+------------+--------------------+--------+--------+--------+------+------------------+------------------+\n",
      "|2020-04-25|   Sean O'Donnell|Consumer|United States|Fort Lauderdale|      Furniture|      Tables|Bretford CR4500 S...|957.5775|       5|-383.031|   9.0|         4787.8875|         5170.9185|\n",
      "|2020-07-29|   Sean O'Donnell|Consumer|United States|Fort Lauderdale|Office Supplies|     Storage|Eldon Fold 'N Rol...|  22.368|       2|  2.5164|   7.0|            44.736|           42.2196|\n",
      "|2020-02-24|        Pete Kriz|Consumer|United States|        Madison|Office Supplies|     Storage|\"Stur-D-Stor Shel...|  665.88|       6| 13.3176|   8.0|3995.2799999999997|         3981.9624|\n",
      "|2020-11-13|  Alejandro Grove|Consumer|United States|    West Jordan|Office Supplies|     Storage|Fellowes Super St...|    55.5|       2|    9.99|   9.0|             111.0|            101.01|\n",
      "|2020-03-14|     Resi Pölking|Consumer|United States|        Madison|      Furniture|      Chairs|Office Star - Pro...| 2807.84|       8|673.8816|   9.0|          22462.72|        21788.8384|\n",
      "|2020-12-06|     Resi Pölking|Consumer|United States|        Madison|Office Supplies|         Art|Hunt BOSTON Vista...|   46.64|       4| 12.5928|   8.0|            186.56|          173.9672|\n",
      "|2020-02-23|      Daniel Byrd|Consumer|United States|Fort Lauderdale|Office Supplies|       Paper|           Xerox 210|  10.368|       2|  3.6288|   8.0|            20.736|           17.1072|\n",
      "|2020-12-30|   Brian Thompson|Consumer|United States|Fort Lauderdale|      Furniture| Furnishings|Staple-based wall...|  19.104|       3|  5.7312|   8.0|            57.312|51.580799999999996|\n",
      "|2020-07-12|     Sanjit Chand|Consumer|United States|    West Jordan|Office Supplies|   Fasteners|Alliance Rubber B...|    5.04|       3|  0.2016|  10.0|15.120000000000001|14.918400000000002|\n",
      "|2020-11-23|     Sanjit Chand|Consumer|United States|    West Jordan|Office Supplies|       Paper|          Xerox 1988|   92.94|       3|  41.823|   8.0|            278.82|236.99699999999999|\n",
      "|2020-08-21|     Sanjit Chand|Consumer|United States|    West Jordan|      Furniture| Furnishings|\"Executive Impres...|   66.69|       3| 22.0077|  10.0|            200.07|          178.0623|\n",
      "|2020-05-20|     Sanjit Chand|Consumer|United States|    West Jordan|Office Supplies|     Binders|Deluxe Heavy-Duty...|   91.68|       5|   28.65|   9.0|458.40000000000003|429.75000000000006|\n",
      "|2020-09-14|     Sonia Sunley|Consumer|United States|        Madison|Office Supplies|   Fasteners|   Colored Push Pins|    1.81|       1|  0.6516|   8.0|              1.81|            1.1584|\n",
      "|2020-07-30|     Sonia Sunley|Consumer|United States|        Madison|Office Supplies|     Binders|ACCOHIDE 3-Ring B...|    8.26|       2|  3.8822|   9.0|             16.52|12.637799999999999|\n",
      "|2020-10-20|    Michael Grace|Consumer|United States|Fort Lauderdale|Office Supplies|     Storage|Gould Plastics 18...| 147.184|       2|-29.4368|   8.0|           294.368|          323.8048|\n",
      "|2020-12-29|Eugene Hildebrand|Consumer|United States|Fort Lauderdale|     Technology| Accessories|TRENDnet 56K USB ...|  41.424|       2|  8.2848|   7.0|            82.848|           74.5632|\n",
      "|2020-06-19|    Darren Powers|Consumer|United States|Fort Lauderdale|Office Supplies|     Binders|GBC Instant Repor...|   7.764|       4|  -5.176|   7.0|            31.056|            36.232|\n",
      "|2020-07-31|    Jeremy Pistek|Consumer|United States|        Madison|     Technology| Accessories|Logitech G105 Gam...|  178.11|       3| 32.0598|   7.0|            534.33|502.27020000000005|\n",
      "|2020-03-15|    Jeremy Pistek|Consumer|United States|        Madison|Office Supplies|  Appliances|Hoover WindTunnel...| 1089.75|       3|  305.13|  10.0|           3269.25|           2964.12|\n",
      "|2020-05-11|    Jeremy Pistek|Consumer|United States|        Madison|Office Supplies|      Labels|Avery 4027 File F...|   61.06|       2| 28.0876|   8.0|            122.12| 94.03240000000001|\n",
      "+----------+-----------------+--------+-------------+---------------+---------------+------------+--------------------+--------+--------+--------+------+------------------+------------------+\n",
      "only showing top 20 rows\n",
      "\n"
     ]
    }
   ],
   "source": [
    "df.where(df.City.isin(['Madison', 'Fort Lauderdale', 'West Jordan'])).show()"
   ]
  },
  {
   "cell_type": "markdown",
   "id": "3ebf5904",
   "metadata": {},
   "source": [
    "#### Filter full names ending with 'berg' or containing 'erin' or 'Erin' and is from Philadelphia or Wilmington"
   ]
  },
  {
   "cell_type": "code",
   "execution_count": 13,
   "id": "332e26db",
   "metadata": {},
   "outputs": [
    {
     "name": "stdout",
     "output_type": "stream",
     "text": [
      "+----------+-------------------+---------+-------------+------------+---------------+------------+--------------------+------------------+--------+---------+-------+------------------+------------------+\n",
      "|      Date|      Customer Name|  Segment|      Country|        City|       Category|Sub-Category|        Product Name|             Sales|Quantity|   Profit| RATING|           Revenue|              Cost|\n",
      "+----------+-------------------+---------+-------------+------------+---------------+------------+--------------------+------------------+--------+---------+-------+------------------+------------------+\n",
      "|2020-03-16|Catherine Glotzbach| Consumer|United States|Philadelphia|Office Supplies|       Paper|\"Wirebound Messag...| 3 Forms per Page\"|  45.056|      0.2|15.2064|              null|              null|\n",
      "|2020-10-05|Catherine Glotzbach| Consumer|United States|Philadelphia|Office Supplies|     Binders|  JM Magazine Binder|            29.718|       6| -21.7932|    7.0|           178.308|          200.1012|\n",
      "|2020-09-24|Catherine Glotzbach| Consumer|United States|Philadelphia|Office Supplies|       Paper|           Xerox 202|            15.552|       3|   5.4432|    8.0|            46.656|           41.2128|\n",
      "|2020-03-23|Catherine Glotzbach| Consumer|United States|Philadelphia|Office Supplies|  Appliances|Sanyo 2.5 Cubic F...|           447.696|       2|  33.5772|    7.0|           895.392| 861.8148000000001|\n",
      "|2020-09-03|   Katherine Hughes| Consumer|United States|Philadelphia|      Furniture| Furnishings|Staple-based wall...|            25.472|       4|   7.6416|    3.0|           101.888| 94.24640000000001|\n",
      "|2020-07-02|      Erin Ashbrook|Corporate|United States|Philadelphia|Office Supplies|       Paper|          Xerox 1991|            54.816|       3|  17.8152|    9.0|           164.448|          146.6328|\n",
      "|2020-10-24|  Katherine Nockton|Corporate|United States|Philadelphia|     Technology|      Phones|    Samsung Convoy 3|           466.158|       7| -93.2316|    8.0|          3263.106|3356.3376000000003|\n",
      "|2020-10-21|  Katherine Nockton|Corporate|United States|Philadelphia|     Technology| Accessories|Sony 16GB Class 1...|            10.312|       1|   -1.289|    9.0|            10.312|11.600999999999999|\n",
      "|2020-05-16|  Katherine Nockton|Corporate|United States|Philadelphia|Office Supplies|     Binders|Avery Round Ring ...|             2.556|       3|  -1.7892|    8.0|             7.668|            9.4572|\n",
      "|2020-06-15|  Georgia Rosenberg|Corporate|United States|  Wilmington|Office Supplies|      Labels|           Avery 480|              22.5|       6|     10.8|    6.0|             135.0|             124.2|\n",
      "|2020-10-14|  Georgia Rosenberg|Corporate|United States|  Wilmington|Office Supplies|      Labels|           Avery 499|              9.96|       2|   4.5816|    3.0|             19.92|15.338400000000002|\n",
      "|2020-12-16|  Georgia Rosenberg|Corporate|United States|  Wilmington|Office Supplies|     Binders|Premier Elliptica...|            213.08|       7| 102.2784|    8.0|1491.5600000000002|1389.2816000000003|\n",
      "|2020-08-01|  Georgia Rosenberg|Corporate|United States|  Wilmington|      Furniture|   Bookcases|Sauder Inglewood ...|           1025.88|       6| 235.9524|    6.0| 6155.280000000001|5919.3276000000005|\n",
      "|2020-09-03|         Erin Smith|Corporate|United States|Philadelphia|Office Supplies|       Paper|          Xerox 1988|            123.92|       5|   38.725|    9.0|             619.6|           580.875|\n",
      "|2020-01-05|         Erin Smith|Corporate|United States|Philadelphia|     Technology| Accessories|Plantronics CS510...|            1319.8|       5| 214.4675|    8.0|            6599.0|         6384.5325|\n",
      "|2020-03-17|      Erin Ashbrook|Corporate|United States|Philadelphia|     Technology|    Machines|Brother MFC-9340C...|           341.991|       3|-319.1916|    8.0|          1025.973|         1345.1646|\n",
      "+----------+-------------------+---------+-------------+------------+---------------+------------+--------------------+------------------+--------+---------+-------+------------------+------------------+\n",
      "\n"
     ]
    }
   ],
   "source": [
    "c1 = (df['Customer Name'].endswith('berg'))\n",
    "c2 = (df['Customer Name'].rlike('[Ee]rin'))\n",
    "c3 = (df.City.rlike('[Pp]hiladelphia|[Ww]ilmington'))\n",
    "    \n",
    "df.where((c1 | c2) & c3).show()"
   ]
  }
 ],
 "metadata": {
  "kernelspec": {
   "display_name": "Python 3",
   "language": "python",
   "name": "python3"
  },
  "language_info": {
   "codemirror_mode": {
    "name": "ipython",
    "version": 3
   },
   "file_extension": ".py",
   "mimetype": "text/x-python",
   "name": "python",
   "nbconvert_exporter": "python",
   "pygments_lexer": "ipython3",
   "version": "3.8.8"
  }
 },
 "nbformat": 4,
 "nbformat_minor": 5
}
