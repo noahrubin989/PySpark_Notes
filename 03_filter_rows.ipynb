{
 "cells": [
  {
   "cell_type": "markdown",
   "id": "be1a0a49",
   "metadata": {},
   "source": [
    "## PySpark Notes\n",
    "\n",
    "Filtering Rows\n",
    "\n",
    "[Really solid examples here](https://sparkbyexamples.com/pyspark/pyspark-where-filter/)"
   ]
  },
  {
   "cell_type": "code",
   "execution_count": 1,
   "id": "2eeae35e",
   "metadata": {},
   "outputs": [],
   "source": [
    "from pyspark.sql import SparkSession\n",
    "from pyspark.sql import functions as F\n",
    "import pandas as pd"
   ]
  },
  {
   "cell_type": "code",
   "execution_count": 2,
   "id": "f00b4c45",
   "metadata": {},
   "outputs": [],
   "source": [
    "spark = SparkSession.builder.appName(\"Spark Intro\").getOrCreate()"
   ]
  },
  {
   "cell_type": "markdown",
   "id": "7dc91528",
   "metadata": {},
   "source": [
    "#### Read in data"
   ]
  },
  {
   "cell_type": "code",
   "execution_count": 3,
   "id": "d804231f",
   "metadata": {},
   "outputs": [
    {
     "data": {
      "text/plain": [
       "['Date',\n",
       " 'Customer ID',\n",
       " 'Customer Name',\n",
       " 'Segment',\n",
       " 'Country',\n",
       " 'City',\n",
       " 'State',\n",
       " 'Postal Code',\n",
       " 'Region',\n",
       " 'Product ID',\n",
       " 'Category',\n",
       " 'Sub-Category',\n",
       " 'Product Name',\n",
       " 'Sales',\n",
       " 'Quantity',\n",
       " 'Discount',\n",
       " 'Profit',\n",
       " 'RATING']"
      ]
     },
     "execution_count": 3,
     "metadata": {},
     "output_type": "execute_result"
    }
   ],
   "source": [
    "df = spark.read.csv('./data/store.csv', header=True, inferSchema=True)\n",
    "df.columns"
   ]
  },
  {
   "cell_type": "markdown",
   "id": "1760224c",
   "metadata": {},
   "source": [
    "#### Drop a few columns (for simplicity)"
   ]
  },
  {
   "cell_type": "code",
   "execution_count": 4,
   "id": "372d1a29",
   "metadata": {},
   "outputs": [
    {
     "name": "stdout",
     "output_type": "stream",
     "text": [
      "+----------+---------------+---------+-------------+---------------+---------------+------------+--------------------+--------+--------+--------+------+\n",
      "|      Date|  Customer Name|  Segment|      Country|           City|       Category|Sub-Category|        Product Name|   Sales|Quantity|  Profit|RATING|\n",
      "+----------+---------------+---------+-------------+---------------+---------------+------------+--------------------+--------+--------+--------+------+\n",
      "|2020-09-09|    Claire Gute| Consumer|United States|      Henderson|      Furniture|   Bookcases|Bush Somerset Col...|  261.96|       2| 41.9136|   8.0|\n",
      "|2020-10-27|    Claire Gute| Consumer|United States|      Henderson|      Furniture|      Chairs|Hon Deluxe Fabric...|  731.94|       3| 219.582|   8.0|\n",
      "|2020-09-10|Darrin Van Huff|Corporate|United States|    Los Angeles|Office Supplies|      Labels|Self-Adhesive Add...|   14.62|       2|  6.8714|   8.0|\n",
      "|2020-04-25| Sean O'Donnell| Consumer|United States|Fort Lauderdale|      Furniture|      Tables|Bretford CR4500 S...|957.5775|       5|-383.031|   9.0|\n",
      "|2020-07-29| Sean O'Donnell| Consumer|United States|Fort Lauderdale|Office Supplies|     Storage|Eldon Fold 'N Rol...|  22.368|       2|  2.5164|   7.0|\n",
      "|2020-01-02|Brosina Hoffman| Consumer|United States|    Los Angeles|      Furniture| Furnishings|Eldon Expressions...|   48.86|       7| 14.1694|   8.0|\n",
      "|2020-11-10|Brosina Hoffman| Consumer|United States|    Los Angeles|Office Supplies|         Art|          Newell 322|    7.28|       4|  1.9656|   9.0|\n",
      "|2020-04-07|Brosina Hoffman| Consumer|United States|    Los Angeles|     Technology|      Phones|Mitel 5320 IP Pho...| 907.152|       6| 90.7152|   8.0|\n",
      "|2020-08-03|Brosina Hoffman| Consumer|United States|    Los Angeles|Office Supplies|     Binders|DXL Angle-View Bi...|  18.504|       3|  5.7825|   7.0|\n",
      "|2020-05-21|Brosina Hoffman| Consumer|United States|    Los Angeles|Office Supplies|  Appliances|Belkin F5C206VTEL...|   114.9|       5|   34.47|   9.0|\n",
      "+----------+---------------+---------+-------------+---------------+---------------+------------+--------------------+--------+--------+--------+------+\n",
      "only showing top 10 rows\n",
      "\n"
     ]
    }
   ],
   "source": [
    "df = df.drop('Customer ID', 'State', 'Region', 'Postal Code', 'Product ID', 'Discount')\n",
    "df.show(n=10)"
   ]
  },
  {
   "cell_type": "code",
   "execution_count": 5,
   "id": "45c268d5",
   "metadata": {},
   "outputs": [
    {
     "name": "stdout",
     "output_type": "stream",
     "text": [
      "There are 9994 rows and 12 columns in this dataframe\n"
     ]
    }
   ],
   "source": [
    "print(f'There are {df.count()} rows and {len(df.columns)} columns in this dataframe')"
   ]
  },
  {
   "cell_type": "markdown",
   "id": "99da8d36",
   "metadata": {},
   "source": [
    "#### Find all rows where revenue was greater than $5000 for orders from Los Angeles. How many rows matched this criteria?"
   ]
  },
  {
   "cell_type": "code",
   "execution_count": 6,
   "id": "f3c408f0",
   "metadata": {},
   "outputs": [
    {
     "data": {
      "text/plain": [
       "[('Date', 'string'),\n",
       " ('Customer Name', 'string'),\n",
       " ('Segment', 'string'),\n",
       " ('Country', 'string'),\n",
       " ('City', 'string'),\n",
       " ('Category', 'string'),\n",
       " ('Sub-Category', 'string'),\n",
       " ('Product Name', 'string'),\n",
       " ('Sales', 'string'),\n",
       " ('Quantity', 'string'),\n",
       " ('Profit', 'double'),\n",
       " ('RATING', 'double')]"
      ]
     },
     "execution_count": 6,
     "metadata": {},
     "output_type": "execute_result"
    }
   ],
   "source": [
    "df.dtypes"
   ]
  },
  {
   "cell_type": "code",
   "execution_count": 7,
   "id": "412ed887",
   "metadata": {},
   "outputs": [
    {
     "name": "stdout",
     "output_type": "stream",
     "text": [
      "There are 38 rows that match this criteria\n",
      "\n",
      "+------------------+-----------+\n",
      "|           Revenue|       City|\n",
      "+------------------+-----------+\n",
      "|          5442.912|Los Angeles|\n",
      "|15355.655999999999|Los Angeles|\n",
      "|            5194.2|Los Angeles|\n",
      "|           5342.72|Los Angeles|\n",
      "|          7116.288|Los Angeles|\n",
      "|          8489.936|Los Angeles|\n",
      "|          6029.856|Los Angeles|\n",
      "|         18031.608|Los Angeles|\n",
      "|          10043.19|Los Angeles|\n",
      "|          5759.928|Los Angeles|\n",
      "|         20159.712|Los Angeles|\n",
      "|           6107.52|Los Angeles|\n",
      "|7597.9400000000005|Los Angeles|\n",
      "|10108.511999999999|Los Angeles|\n",
      "|           13999.8|Los Angeles|\n",
      "|5218.7300000000005|Los Angeles|\n",
      "|11025.980000000001|Los Angeles|\n",
      "| 8066.951999999999|Los Angeles|\n",
      "|         8261.3115|Los Angeles|\n",
      "|         17279.712|Los Angeles|\n",
      "|           8249.75|Los Angeles|\n",
      "|            8203.5|Los Angeles|\n",
      "|           5230.08|Los Angeles|\n",
      "|          5183.352|Los Angeles|\n",
      "|16502.415999999997|Los Angeles|\n",
      "|          15291.36|Los Angeles|\n",
      "|         33271.296|Los Angeles|\n",
      "|           8395.52|Los Angeles|\n",
      "|         25983.504|Los Angeles|\n",
      "|           8829.31|Los Angeles|\n",
      "|           6559.38|Los Angeles|\n",
      "|           10072.8|Los Angeles|\n",
      "|          20813.24|Los Angeles|\n",
      "|           8249.75|Los Angeles|\n",
      "|           6437.25|Los Angeles|\n",
      "|           14019.6|Los Angeles|\n",
      "|         27253.312|Los Angeles|\n",
      "|          6124.608|Los Angeles|\n",
      "+------------------+-----------+\n",
      "\n"
     ]
    }
   ],
   "source": [
    "# First create a revenue column\n",
    "df = df.withColumn(colName='Revenue', col=df.Sales*df.Quantity)\n",
    "\n",
    "required_rows = df[(df.Revenue > 5000) & (df.City == 'Los Angeles')]\n",
    "\n",
    "matches = required_rows.count()\n",
    "print(f'There are {matches} rows that match this criteria\\n')\n",
    "required_rows.select('Revenue', 'City').show(n=matches)"
   ]
  },
  {
   "cell_type": "markdown",
   "id": "e3fc145d",
   "metadata": {},
   "source": [
    "#### Filter observations between 2020-04-19 and 2020-11-20 and verify that it was done properly"
   ]
  },
  {
   "cell_type": "code",
   "execution_count": 8,
   "id": "9f3672a8",
   "metadata": {},
   "outputs": [],
   "source": [
    "# Essentially this is df['Date'] = pd.to_datetime(df.Date)\n",
    "df = df.withColumn(colName='Date', col=F.to_date(df.Date))"
   ]
  },
  {
   "cell_type": "code",
   "execution_count": 9,
   "id": "1c5f848e",
   "metadata": {},
   "outputs": [
    {
     "name": "stdout",
     "output_type": "stream",
     "text": [
      "+----------+----------+\n",
      "| min(date)| max(date)|\n",
      "+----------+----------+\n",
      "|2020-04-19|2020-11-20|\n",
      "+----------+----------+\n",
      "\n"
     ]
    }
   ],
   "source": [
    "start_date = pd.to_datetime('2020-04-19')\n",
    "end_date = pd.to_datetime('2020-11-20')\n",
    "\n",
    "df_between_dates = df[df.Date.between(lowerBound=start_date, upperBound=end_date)]\n",
    "df_between_dates.agg(F.min('date'), F.max('date')).show()"
   ]
  },
  {
   "cell_type": "markdown",
   "id": "eabe8926",
   "metadata": {},
   "source": [
    "#### Filter people whose name begins with a 'Z' and are from Salem"
   ]
  },
  {
   "cell_type": "code",
   "execution_count": 10,
   "id": "4455ff41",
   "metadata": {},
   "outputs": [
    {
     "name": "stdout",
     "output_type": "stream",
     "text": [
      "+----------+----------------+--------+-------------+-----+---------------+------------+--------------------+------+--------+--------+------+-----------------+\n",
      "|      Date|   Customer Name| Segment|      Country| City|       Category|Sub-Category|        Product Name| Sales|Quantity|  Profit|RATING|          Revenue|\n",
      "+----------+----------------+--------+-------------+-----+---------------+------------+--------------------+------+--------+--------+------+-----------------+\n",
      "|2020-10-07|Zuschuss Carroll|Consumer|United States|Salem|     Technology|      Phones|i.Sound Portable ...|84.784|       2|-20.1362|  10.0|          169.568|\n",
      "|2020-11-16|Zuschuss Carroll|Consumer|United States|Salem|Office Supplies|       Paper|           Xerox 225|20.736|       4|  7.2576|   8.0|           82.944|\n",
      "|2020-04-19|Zuschuss Carroll|Consumer|United States|Salem|Office Supplies|     Binders|Clear Mylar Reinf...|16.821|       3|-12.8961|   5.0|50.46300000000001|\n",
      "|2020-12-11|Zuschuss Carroll|Consumer|United States|Salem|Office Supplies|       Paper|          Xerox 1894|10.368|       2|  3.6288|   7.0|           20.736|\n",
      "+----------+----------------+--------+-------------+-----+---------------+------------+--------------------+------+--------+--------+------+-----------------+\n",
      "\n"
     ]
    }
   ],
   "source": [
    "df[(df['Customer Name'].startswith('Z')) & (df.City == 'Salem')].show()"
   ]
  },
  {
   "cell_type": "markdown",
   "id": "c13f579f",
   "metadata": {},
   "source": [
    "#### Find all paper related orders where cost was greater than $4000. Select only sub-category, revenue, cost and profit\n",
    "Don't use square brackets for the filtering"
   ]
  },
  {
   "cell_type": "code",
   "execution_count": 11,
   "id": "c5190e13",
   "metadata": {},
   "outputs": [
    {
     "name": "stdout",
     "output_type": "stream",
     "text": [
      "+------------+-----------------+-----------------+--------+\n",
      "|Sub-Category|          Revenue|             Cost|  Profit|\n",
      "+------------+-----------------+-----------------+--------+\n",
      "|       Paper|5137.650000000001|         4785.354| 352.296|\n",
      "|       Paper|         4136.384|        4040.3608| 96.0232|\n",
      "|       Paper|         4188.496|         4087.811| 100.685|\n",
      "|       Paper|4476.639999999999|4329.550399999999|147.0896|\n",
      "+------------+-----------------+-----------------+--------+\n",
      "\n"
     ]
    }
   ],
   "source": [
    "df = df.withColumn(colName='Cost', col=df.Revenue-df.Profit)\n",
    "\n",
    "# `filter` and `where` do the same thing\n",
    "filtered_df = df.filter( (df['Sub-Category'] == 'Paper') & (df['Cost'] > 4000) )\n",
    "\n",
    "# Selecting\n",
    "filtered_df.select('Sub-Category', 'Revenue', 'Cost', 'Profit').show()"
   ]
  },
  {
   "cell_type": "markdown",
   "id": "3fa3e537",
   "metadata": {},
   "source": [
    "#### Filter rows where the city was Madison or Fort Lauderdale or West Jordan"
   ]
  },
  {
   "cell_type": "code",
   "execution_count": 12,
   "id": "72ccaec1",
   "metadata": {},
   "outputs": [
    {
     "name": "stdout",
     "output_type": "stream",
     "text": [
      "+---------------+\n",
      "|           City|\n",
      "+---------------+\n",
      "|Fort Lauderdale|\n",
      "|Fort Lauderdale|\n",
      "|        Madison|\n",
      "|    West Jordan|\n",
      "|        Madison|\n",
      "|        Madison|\n",
      "|Fort Lauderdale|\n",
      "|Fort Lauderdale|\n",
      "|    West Jordan|\n",
      "|    West Jordan|\n",
      "|    West Jordan|\n",
      "|    West Jordan|\n",
      "|        Madison|\n",
      "|        Madison|\n",
      "|Fort Lauderdale|\n",
      "|Fort Lauderdale|\n",
      "|Fort Lauderdale|\n",
      "|        Madison|\n",
      "|        Madison|\n",
      "|        Madison|\n",
      "+---------------+\n",
      "only showing top 20 rows\n",
      "\n"
     ]
    }
   ],
   "source": [
    "cities_of_interest = df.where(df.City.isin(['Madison', 'Fort Lauderdale', 'West Jordan']))\n",
    "cities_of_interest.select('City').show()"
   ]
  },
  {
   "cell_type": "markdown",
   "id": "3ebf5904",
   "metadata": {},
   "source": [
    "#### Filter full names ending with 'berg' or containing 'erin' or 'Erin' and is from Philadelphia or Wilmington"
   ]
  },
  {
   "cell_type": "code",
   "execution_count": 13,
   "id": "332e26db",
   "metadata": {},
   "outputs": [
    {
     "name": "stdout",
     "output_type": "stream",
     "text": [
      "+-------------------+------------+\n",
      "|      Customer Name|        City|\n",
      "+-------------------+------------+\n",
      "|Catherine Glotzbach|Philadelphia|\n",
      "|Catherine Glotzbach|Philadelphia|\n",
      "|Catherine Glotzbach|Philadelphia|\n",
      "|Catherine Glotzbach|Philadelphia|\n",
      "|   Katherine Hughes|Philadelphia|\n",
      "|      Erin Ashbrook|Philadelphia|\n",
      "|  Katherine Nockton|Philadelphia|\n",
      "|  Katherine Nockton|Philadelphia|\n",
      "|  Katherine Nockton|Philadelphia|\n",
      "|  Georgia Rosenberg|  Wilmington|\n",
      "|  Georgia Rosenberg|  Wilmington|\n",
      "|  Georgia Rosenberg|  Wilmington|\n",
      "|  Georgia Rosenberg|  Wilmington|\n",
      "|         Erin Smith|Philadelphia|\n",
      "|         Erin Smith|Philadelphia|\n",
      "|      Erin Ashbrook|Philadelphia|\n",
      "+-------------------+------------+\n",
      "\n"
     ]
    }
   ],
   "source": [
    "c1 = (df['Customer Name'].endswith('berg'))\n",
    "c2 = (df['Customer Name'].rlike('[Ee]rin'))\n",
    "c3 = (df.City.rlike('[Pp]hiladelphia|[Ww]ilmington'))\n",
    "    \n",
    "new_df = df.where((c1 | c2) & c3)\n",
    "new_df.select('Customer Name', 'City').show()"
   ]
  }
 ],
 "metadata": {
  "kernelspec": {
   "display_name": "Python 3",
   "language": "python",
   "name": "python3"
  },
  "language_info": {
   "codemirror_mode": {
    "name": "ipython",
    "version": 3
   },
   "file_extension": ".py",
   "mimetype": "text/x-python",
   "name": "python",
   "nbconvert_exporter": "python",
   "pygments_lexer": "ipython3",
   "version": "3.8.8"
  }
 },
 "nbformat": 4,
 "nbformat_minor": 5
}
