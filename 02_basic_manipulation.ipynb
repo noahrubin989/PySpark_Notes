{
 "cells": [
  {
   "cell_type": "markdown",
   "id": "991c0360",
   "metadata": {},
   "source": [
    "## PySpark Notes\n",
    "\n",
    "1. [Read in data](#Read_in_data)\n",
    "2. [Get the schema of the dataframe](#get_schema)\n",
    "3. [Get column names](#get_cols)\n",
    "4. [Select columns](#select_cols)\n",
    "5. [Describe the dataset](#describe_data)\n",
    "6. [Add columns](#add_cols)\n",
    "7. [Drop columns](#drop_cols)\n",
    "8. [Rename columns](#rename_cols)"
   ]
  },
  {
   "cell_type": "code",
   "execution_count": 1,
   "id": "fa4cbf15",
   "metadata": {},
   "outputs": [],
   "source": [
    "import pyspark\n",
    "from pyspark.sql import SparkSession"
   ]
  },
  {
   "cell_type": "code",
   "execution_count": 2,
   "id": "723a8575",
   "metadata": {},
   "outputs": [],
   "source": [
    "# Create session\n",
    "spark = SparkSession.builder.appName(\"Spark Intro\").getOrCreate()"
   ]
  },
  {
   "cell_type": "markdown",
   "id": "08000a06",
   "metadata": {},
   "source": [
    "#### Read in data\n",
    "<a id='Read_in_data'></a>"
   ]
  },
  {
   "cell_type": "code",
   "execution_count": 3,
   "id": "e8a36b2e",
   "metadata": {},
   "outputs": [
    {
     "name": "stdout",
     "output_type": "stream",
     "text": [
      "+----------+------------+----------------+---------------+\n",
      "|Order Date|Total Profit|         Country|      Item Type|\n",
      "+----------+------------+----------------+---------------+\n",
      "|2012-07-27|     3839.13|    South Africa|         Fruits|\n",
      "|2013-09-14|   338631.84|         Morocco|        Clothes|\n",
      "|2015-05-15|     20592.0|Papua New Guinea|           Meat|\n",
      "|2017-05-17|    41273.28|        Djibouti|        Clothes|\n",
      "|2016-10-26|    62217.18|        Slovakia|      Beverages|\n",
      "|2011-11-07|     3323.39|       Sri Lanka|         Fruits|\n",
      "|2013-01-18|     9349.02|     Seychelles |      Beverages|\n",
      "|2016-11-30|    23114.16|        Tanzania|      Beverages|\n",
      "|2017-03-23|    113120.0|           Ghana|Office Supplies|\n",
      "|2016-05-23|  1350622.16|        Tanzania|      Cosmetics|\n",
      "+----------+------------+----------------+---------------+\n",
      "only showing top 10 rows\n",
      "\n"
     ]
    }
   ],
   "source": [
    "# inferSchema=True ensures that the profit is being interpreted as floats\n",
    "df = spark.read.csv('sales.csv', header=True, inferSchema=True)\n",
    "df.show(n=10)"
   ]
  },
  {
   "cell_type": "markdown",
   "id": "8bb640d7",
   "metadata": {},
   "source": [
    "#### Get the schema of the dataframe\n",
    "<a id='get_schema'></a>"
   ]
  },
  {
   "cell_type": "code",
   "execution_count": 4,
   "id": "028b812c",
   "metadata": {},
   "outputs": [
    {
     "name": "stdout",
     "output_type": "stream",
     "text": [
      "root\n",
      " |-- Order Date: string (nullable = true)\n",
      " |-- Total Profit: double (nullable = true)\n",
      " |-- Country: string (nullable = true)\n",
      " |-- Item Type: string (nullable = true)\n",
      "\n"
     ]
    }
   ],
   "source": [
    "df.printSchema()"
   ]
  },
  {
   "cell_type": "code",
   "execution_count": 5,
   "id": "acc11119",
   "metadata": {},
   "outputs": [
    {
     "data": {
      "text/plain": [
       "[('Order Date', 'string'),\n",
       " ('Total Profit', 'double'),\n",
       " ('Country', 'string'),\n",
       " ('Item Type', 'string')]"
      ]
     },
     "execution_count": 5,
     "metadata": {},
     "output_type": "execute_result"
    }
   ],
   "source": [
    "# Another option (same as pandas essentially)\n",
    "df.dtypes "
   ]
  },
  {
   "cell_type": "markdown",
   "id": "18ed27ba",
   "metadata": {},
   "source": [
    "#### Get column names\n",
    "<a id='get_cols'></a>"
   ]
  },
  {
   "cell_type": "code",
   "execution_count": 6,
   "id": "7e480670",
   "metadata": {},
   "outputs": [
    {
     "data": {
      "text/plain": [
       "['Order Date', 'Total Profit', 'Country', 'Item Type']"
      ]
     },
     "execution_count": 6,
     "metadata": {},
     "output_type": "execute_result"
    }
   ],
   "source": [
    "df.columns"
   ]
  },
  {
   "cell_type": "markdown",
   "id": "8c29245d",
   "metadata": {},
   "source": [
    "#### Select columns\n",
    "<a id='select_cols'></a>\n",
    "\n",
    "Select the `Order Date` and `Country` column"
   ]
  },
  {
   "cell_type": "code",
   "execution_count": 7,
   "id": "9e342b4a",
   "metadata": {},
   "outputs": [
    {
     "name": "stdout",
     "output_type": "stream",
     "text": [
      "+----------+----------------+\n",
      "|Order Date|         Country|\n",
      "+----------+----------------+\n",
      "|2012-07-27|    South Africa|\n",
      "|2013-09-14|         Morocco|\n",
      "|2015-05-15|Papua New Guinea|\n",
      "|2017-05-17|        Djibouti|\n",
      "|2016-10-26|        Slovakia|\n",
      "|2011-11-07|       Sri Lanka|\n",
      "|2013-01-18|     Seychelles |\n",
      "|2016-11-30|        Tanzania|\n",
      "|2017-03-23|           Ghana|\n",
      "|2016-05-23|        Tanzania|\n",
      "+----------+----------------+\n",
      "only showing top 10 rows\n",
      "\n"
     ]
    }
   ],
   "source": [
    "df.select('Order Date', 'Country').show(n=10)"
   ]
  },
  {
   "cell_type": "markdown",
   "id": "d71700dd",
   "metadata": {},
   "source": [
    "Select the `Total Profit` and `Item Type` column"
   ]
  },
  {
   "cell_type": "code",
   "execution_count": 8,
   "id": "c3672d8e",
   "metadata": {},
   "outputs": [
    {
     "name": "stdout",
     "output_type": "stream",
     "text": [
      "+------------+---------------+\n",
      "|Total Profit|      Item Type|\n",
      "+------------+---------------+\n",
      "|     3839.13|         Fruits|\n",
      "|   338631.84|        Clothes|\n",
      "|     20592.0|           Meat|\n",
      "|    41273.28|        Clothes|\n",
      "|    62217.18|      Beverages|\n",
      "|     3323.39|         Fruits|\n",
      "|     9349.02|      Beverages|\n",
      "|    23114.16|      Beverages|\n",
      "|    113120.0|Office Supplies|\n",
      "|  1350622.16|      Cosmetics|\n",
      "+------------+---------------+\n",
      "only showing top 10 rows\n",
      "\n"
     ]
    }
   ],
   "source": [
    "# Passing in a list is fine too\n",
    "df.select(['Total Profit', 'Item Type']).show(n=10)"
   ]
  },
  {
   "cell_type": "markdown",
   "id": "3a5e0035",
   "metadata": {},
   "source": [
    "#### Describe the dataset\n",
    "<a id='describe_data'></a>"
   ]
  },
  {
   "cell_type": "code",
   "execution_count": 9,
   "id": "268e090d",
   "metadata": {},
   "outputs": [
    {
     "name": "stdout",
     "output_type": "stream",
     "text": [
      "+-------+----------+------------------+-----------+----------+\n",
      "|summary|Order Date|      Total Profit|    Country| Item Type|\n",
      "+-------+----------+------------------+-----------+----------+\n",
      "|  count|    500000|            500000|     500000|    500000|\n",
      "|   mean|      null| 392479.9645884398|       null|      null|\n",
      "| stddev|      null|378751.68881151074|       null|      null|\n",
      "|    min|2010-01-01|              2.41|Afghanistan| Baby Food|\n",
      "|    max|2017-07-28|         1738700.0|   Zimbabwe|Vegetables|\n",
      "+-------+----------+------------------+-----------+----------+\n",
      "\n"
     ]
    }
   ],
   "source": [
    "df.describe().show()"
   ]
  },
  {
   "cell_type": "markdown",
   "id": "2a770e86",
   "metadata": {},
   "source": [
    "#### Add columns\n",
    "<a id='add_cols'></a>\n",
    "Add a `cost` column, and set values arbitrarily (just do `Total Profit` - 3000 to see how it works)"
   ]
  },
  {
   "cell_type": "code",
   "execution_count": 10,
   "id": "d02b0e72",
   "metadata": {},
   "outputs": [],
   "source": [
    "# Copies of the dataframe are created (not views)\n",
    "df = df.withColumn(colName='cost', col=df['Total Profit']-3000)"
   ]
  },
  {
   "cell_type": "markdown",
   "id": "ab134282",
   "metadata": {},
   "source": [
    "#### Drop columns\n",
    "<a id='drop_cols'></a>\n",
    "Drop the `cost` and `Item Type`, column"
   ]
  },
  {
   "cell_type": "code",
   "execution_count": 11,
   "id": "a601b697",
   "metadata": {},
   "outputs": [
    {
     "name": "stdout",
     "output_type": "stream",
     "text": [
      "+----------+------------+----------------+\n",
      "|Order Date|Total Profit|         Country|\n",
      "+----------+------------+----------------+\n",
      "|2012-07-27|     3839.13|    South Africa|\n",
      "|2013-09-14|   338631.84|         Morocco|\n",
      "|2015-05-15|     20592.0|Papua New Guinea|\n",
      "|2017-05-17|    41273.28|        Djibouti|\n",
      "|2016-10-26|    62217.18|        Slovakia|\n",
      "|2011-11-07|     3323.39|       Sri Lanka|\n",
      "|2013-01-18|     9349.02|     Seychelles |\n",
      "|2016-11-30|    23114.16|        Tanzania|\n",
      "|2017-03-23|    113120.0|           Ghana|\n",
      "|2016-05-23|  1350622.16|        Tanzania|\n",
      "+----------+------------+----------------+\n",
      "only showing top 10 rows\n",
      "\n"
     ]
    }
   ],
   "source": [
    "# Always creating a copy, hence inplace=True is not a thing\n",
    "df = df.drop('cost', 'Item Type')\n",
    "df.show(n=10)"
   ]
  },
  {
   "cell_type": "markdown",
   "id": "868d389e",
   "metadata": {},
   "source": [
    "#### Rename columns\n",
    "<a id='rename_cols'></a>"
   ]
  },
  {
   "cell_type": "code",
   "execution_count": 12,
   "id": "18045bb9",
   "metadata": {},
   "outputs": [
    {
     "name": "stdout",
     "output_type": "stream",
     "text": [
      "+----------+------------+----------------+\n",
      "|      Date|Total Profit|         Country|\n",
      "+----------+------------+----------------+\n",
      "|2012-07-27|     3839.13|    South Africa|\n",
      "|2013-09-14|   338631.84|         Morocco|\n",
      "|2015-05-15|     20592.0|Papua New Guinea|\n",
      "|2017-05-17|    41273.28|        Djibouti|\n",
      "|2016-10-26|    62217.18|        Slovakia|\n",
      "|2011-11-07|     3323.39|       Sri Lanka|\n",
      "|2013-01-18|     9349.02|     Seychelles |\n",
      "|2016-11-30|    23114.16|        Tanzania|\n",
      "|2017-03-23|    113120.0|           Ghana|\n",
      "|2016-05-23|  1350622.16|        Tanzania|\n",
      "+----------+------------+----------------+\n",
      "only showing top 10 rows\n",
      "\n"
     ]
    }
   ],
   "source": [
    "df = df.withColumnRenamed(existing='Order Date', new='Date')\n",
    "df.show(n=10)"
   ]
  },
  {
   "cell_type": "code",
   "execution_count": 13,
   "id": "fd965f3e",
   "metadata": {},
   "outputs": [
    {
     "name": "stdout",
     "output_type": "stream",
     "text": [
      "+----------+------------+----------------+\n",
      "|Order Date|Total Profit|   Order Country|\n",
      "+----------+------------+----------------+\n",
      "|2012-07-27|     3839.13|    South Africa|\n",
      "|2013-09-14|   338631.84|         Morocco|\n",
      "|2015-05-15|     20592.0|Papua New Guinea|\n",
      "|2017-05-17|    41273.28|        Djibouti|\n",
      "|2016-10-26|    62217.18|        Slovakia|\n",
      "|2011-11-07|     3323.39|       Sri Lanka|\n",
      "|2013-01-18|     9349.02|     Seychelles |\n",
      "|2016-11-30|    23114.16|        Tanzania|\n",
      "|2017-03-23|    113120.0|           Ghana|\n",
      "|2016-05-23|  1350622.16|        Tanzania|\n",
      "+----------+------------+----------------+\n",
      "only showing top 10 rows\n",
      "\n"
     ]
    }
   ],
   "source": [
    "# Multiple columns at the same time (requires all columns)\n",
    "df = df.toDF('Order Date', 'Total Profit', 'Order Country')\n",
    "df.show(n=10)"
   ]
  }
 ],
 "metadata": {
  "kernelspec": {
   "display_name": "Python 3",
   "language": "python",
   "name": "python3"
  },
  "language_info": {
   "codemirror_mode": {
    "name": "ipython",
    "version": 3
   },
   "file_extension": ".py",
   "mimetype": "text/x-python",
   "name": "python",
   "nbconvert_exporter": "python",
   "pygments_lexer": "ipython3",
   "version": "3.8.8"
  }
 },
 "nbformat": 4,
 "nbformat_minor": 5
}
